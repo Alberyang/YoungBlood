{
 "cells": [
  {
   "cell_type": "code",
   "execution_count": 31,
   "metadata": {},
   "outputs": [
    {
     "name": "stdout",
     "output_type": "stream",
     "text": [
      "Total number of request: 4193\n",
      "Number of successful request: 1945\n",
      "Success rate: 0.46386835201526355\n"
     ]
    }
   ],
   "source": [
    "import pandas as pd \n",
    "\n",
    "# Stress Testing for creating messages\n",
    "df_message = pd.read_csv(\"./Message/Message-Report.csv\") \n",
    "msg_request_num = len(df_message)\n",
    "print(\"Total number of request:\", msg_request_num)\n",
    "msg_code_list = df_message.responseCode.to_list()\n",
    "valid_response = 0\n",
    "\n",
    "for code in msg_code_list:\n",
    "    if code == '201':\n",
    "        valid_response += 1\n",
    "\n",
    "print(\"Number of successful request:\", valid_response)\n",
    "print(\"Success rate:\", valid_response/msg_request_num)"
   ]
  },
  {
   "cell_type": "code",
   "execution_count": 30,
   "metadata": {},
   "outputs": [
    {
     "name": "stdout",
     "output_type": "stream",
     "text": [
      "Total number of request: 2000\n",
      "Number of successful request: 1995\n",
      "Success rate: 0.9975\n"
     ]
    }
   ],
   "source": [
    "import pandas as pd \n",
    "\n",
    "# Stress Testing for creating new users\n",
    "df_user = pd.read_csv(\"./User/User-Report.csv\") \n",
    "user_request_num = len(df_user)\n",
    "print(\"Total number of request:\", user_request_num)\n",
    "user_code_list = df_user.responseCode.to_list()\n",
    "valid_response = 0\n",
    "\n",
    "for code in user_code_list:\n",
    "    if code == '201':\n",
    "        valid_response += 1\n",
    "\n",
    "print(\"Number of successful request:\", valid_response)\n",
    "print(\"Success rate:\", valid_response/user_request_num)"
   ]
  },
  {
   "cell_type": "code",
   "execution_count": 32,
   "metadata": {},
   "outputs": [
    {
     "name": "stdout",
     "output_type": "stream",
     "text": [
      "Total number of request: 2000\n",
      "Number of successful request: 477\n",
      "Success rate: 0.2385\n"
     ]
    }
   ],
   "source": [
    "import pandas as pd \n",
    "\n",
    "# Stress Testing for add members in a chat\n",
    "df_member = pd.read_csv(\"./Member/Member-Report.csv\") \n",
    "member_request_num = len(df_member)\n",
    "print(\"Total number of request:\", member_request_num)\n",
    "member_code_list = df_member.responseCode.to_list()\n",
    "valid_response = 0\n",
    "\n",
    "for code in member_code_list:\n",
    "    if code == '201':\n",
    "        valid_response += 1\n",
    "\n",
    "print(\"Number of successful request:\", valid_response)\n",
    "print(\"Success rate:\", valid_response/member_request_num)"
   ]
  },
  {
   "cell_type": "code",
   "execution_count": null,
   "metadata": {},
   "outputs": [],
   "source": []
  }
 ],
 "metadata": {
  "kernelspec": {
   "display_name": "Python 3",
   "language": "python",
   "name": "python3"
  },
  "language_info": {
   "codemirror_mode": {
    "name": "ipython",
    "version": 3
   },
   "file_extension": ".py",
   "mimetype": "text/x-python",
   "name": "python",
   "nbconvert_exporter": "python",
   "pygments_lexer": "ipython3",
   "version": "3.7.7"
  }
 },
 "nbformat": 4,
 "nbformat_minor": 4
}
